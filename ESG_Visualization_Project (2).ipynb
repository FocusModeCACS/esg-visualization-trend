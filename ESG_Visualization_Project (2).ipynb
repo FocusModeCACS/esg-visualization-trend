
{
 "cells": [
  {
   "cell_type": "markdown",
   "metadata": {},
   "source": [
    "# ESG Visualization Trend Project\n",
    "### Using Yahoo Finance data in Python (Jupyter Notebook)"
   ]
  },
  {
   "cell_type": "code",
   "execution_count": null,
   "metadata": {},
   "outputs": [],
   "source": [
    "%pip install yfinance pandas matplotlib plotly"
   ]
  },
  {
   "cell_type": "code",
   "execution_count": null,
   "metadata": {},
   "outputs": [],
   "source": [
    "import yfinance as yf\n",
    "import pandas as pd\n",
    "import matplotlib.pyplot as plt\n",
    "import plotly.express as px\n",
    "\n",
    "print(\"✅ Libraries imported successfully!\")"
   ]
  },
  {
   "cell_type": "code",
   "execution_count": null,
   "metadata": {},
   "outputs": [],
   "source": [
    "tickers = [\"ESGU\", \"SUSA\", \"SPYG\"]"
   ]
  },
  {
   "cell_type": "code",
   "execution_count": null,
   "metadata": {},
   "outputs": [],
   "source": [
    "data = yf.download(tickers, start=\"2020-01-01\", end=\"2025-01-01\")[\"Adj Close\"]\n",
    "data.head()"
   ]
  },
  {
   "cell_type": "code",
   "execution_count": null,
   "metadata": {},
   "outputs": [],
   "source": [
    "plt.figure(figsize=(12, 6))\n",
    "for ticker in tickers:\n",
    "    plt.plot(data.index, data[ticker], label=ticker)\n",
    "plt.title(\"Adjusted Closing Prices of ESG ETFs (2020–2025)\")\n",
    "plt.xlabel(\"Date\")\n",
    "plt.ylabel(\"Adjusted Close Price (USD)\")\n",
    "plt.legend()\n",
    "plt.grid(True)\n",
    "plt.show()"
   ]
  },
  {
   "cell_type": "code",
   "execution_count": null,
   "metadata": {},
   "outputs": [],
   "source": [
    "cumulative_returns = (data / data.iloc[0]) - 1\n",
    "\n",
    "cumulative_returns.plot(figsize=(12, 6))\n",
    "plt.title(\"Cumulative Returns of ESG ETFs (2020–2025)\")\n",
    "plt.xlabel(\"Date\")\n",
    "plt.ylabel(\"Cumulative Return\")\n",
    "plt.grid(True)\n",
    "plt.show()"
   ]
  },
  {
   "cell_type": "code",
   "execution_count": null,
   "metadata": {},
   "outputs": [],
   "source": [
    "yearly_returns = data.resample(\"Y\").last().pct_change().dropna() * 100\n",
    "\n",
    "fig = px.bar(yearly_returns,\n",
    "             barmode=\"group\",\n",
    "             title=\"Yearly Percentage Returns of ESG ETFs\",\n",
    "             labels={\"value\": \"Yearly Return (%)\", \"variable\": \"ETF\", \"index\": \"Year\"})\n",
    "\n",
    "fig.update_xaxes(type='category')\n",
    "fig.show()"
   ]
  },
  {
   "cell_type": "code",
   "execution_count": null,
   "metadata": {},
   "outputs": [],
   "source": [
    "sp500 = yf.download(\"SPY\", start=\"2020-01-01\", end=\"2025-01-01\")[\"Adj Close\"]\n",
    "\n",
    "combined = data.copy()\n",
    "combined[\"SPY\"] = sp500\n",
    "\n",
    "comparison = (combined / combined.iloc[0]) - 1\n",
    "\n",
    "comparison.plot(figsize=(12, 6))\n",
    "plt.title(\"Cumulative Returns: ESG ETFs vs S&P 500\")\n",
    "plt.xlabel(\"Date\")\n",
    "plt.ylabel(\"Cumulative Return\")\n",
    "plt.grid(True)\n",
    "plt.show()"
   ]
  },
  {
   "cell_type": "markdown",
   "metadata": {},
   "source": [
    "### Insights\n",
    "\n",
    "- ESG ETFs have shown consistent returns since 2020.\n",
    "- Comparing to S&P 500 shows whether ESG is underperforming or outperforming the broad market.\n",
    "- Yearly breakdown shows market volatility and recovery trends."
   ]
  }
 ],
 "metadata": {
  "kernelspec": {
   "display_name": "Python 3",
   "language": "python",
   "name": "python3"
  },
  "language_info": {
   "codemirror_mode": {
    "name": "ipython",
    "version": 3
   },
   "file_extension": ".py",
   "mimetype": "text/x-python",
   "name": "python",
   "nbconvert_exporter": "python",
   "pygments_lexer": "ipython3",
   "version": "3.10"
  }
 },
 "nbformat": 4,
 "nbformat_minor": 2
}
